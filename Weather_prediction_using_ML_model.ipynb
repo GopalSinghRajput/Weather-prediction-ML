{
  "nbformat": 4,
  "nbformat_minor": 0,
  "metadata": {
    "colab": {
      "provenance": [],
      "toc_visible": true,
      "authorship_tag": "ABX9TyN8cXbGUZmL7zUVPelgPXgh",
      "include_colab_link": true
    },
    "kernelspec": {
      "name": "python3",
      "display_name": "Python 3"
    },
    "language_info": {
      "name": "python"
    }
  },
  "cells": [
    {
      "cell_type": "markdown",
      "metadata": {
        "id": "view-in-github",
        "colab_type": "text"
      },
      "source": [
        "<a href=\"https://colab.research.google.com/github/GopalSinghRajput/Weather-prediction-ML/blob/main/Weather_prediction_using_ML_model.ipynb\" target=\"_parent\"><img src=\"https://colab.research.google.com/assets/colab-badge.svg\" alt=\"Open In Colab\"/></a>"
      ]
    },
    {
      "cell_type": "markdown",
      "source": [
        "## ***Weather prediction using Random forest and linear regression model***"
      ],
      "metadata": {
        "id": "WZH2rAb8uGkA"
      }
    },
    {
      "cell_type": "code",
      "execution_count": null,
      "metadata": {
        "id": "90neeFBlnqx8"
      },
      "outputs": [],
      "source": [
        "import numpy as np\n",
        "import pandas as pd\n",
        "import matplotlib.pyplot as plt\n",
        "import seaborn as sn"
      ]
    },
    {
      "cell_type": "markdown",
      "source": [
        "# **Data Acquisition**\n",
        "data set link = https://www.kaggle.com/berkeleyearth/climate-change-earth-surface-temperature-data"
      ],
      "metadata": {
        "id": "Epnxws6CuYzo"
      }
    },
    {
      "cell_type": "code",
      "source": [
        "globaltemp = pd.read_csv(\"GlobalTemperatures.csv\")\n",
        "globaltemp.shape"
      ],
      "metadata": {
        "colab": {
          "base_uri": "https://localhost:8080/"
        },
        "id": "SfWKuI1uoEeL",
        "outputId": "f607eddb-c964-4ff1-972d-b0b677c41952"
      },
      "execution_count": null,
      "outputs": [
        {
          "output_type": "execute_result",
          "data": {
            "text/plain": [
              "(3192, 9)"
            ]
          },
          "metadata": {},
          "execution_count": 6
        }
      ]
    },
    {
      "cell_type": "code",
      "source": [
        "globaltemp.columns"
      ],
      "metadata": {
        "colab": {
          "base_uri": "https://localhost:8080/"
        },
        "id": "ijOs-1Vopbsh",
        "outputId": "c173108a-5ce2-4fff-8805-b8d3f5e08523"
      },
      "execution_count": null,
      "outputs": [
        {
          "output_type": "execute_result",
          "data": {
            "text/plain": [
              "Index(['dt', 'LandAverageTemperature', 'LandAverageTemperatureUncertainty',\n",
              "       'LandMaxTemperature', 'LandMaxTemperatureUncertainty',\n",
              "       'LandMinTemperature', 'LandMinTemperatureUncertainty',\n",
              "       'LandAndOceanAverageTemperature',\n",
              "       'LandAndOceanAverageTemperatureUncertainty'],\n",
              "      dtype='object')"
            ]
          },
          "metadata": {},
          "execution_count": 7
        }
      ]
    },
    {
      "cell_type": "code",
      "source": [
        "globaltemp.info()"
      ],
      "metadata": {
        "colab": {
          "base_uri": "https://localhost:8080/"
        },
        "id": "N1iI4_hQpdJE",
        "outputId": "29f9e410-b9ad-499b-b5a4-d8573be1cdb4"
      },
      "execution_count": null,
      "outputs": [
        {
          "output_type": "stream",
          "name": "stdout",
          "text": [
            "<class 'pandas.core.frame.DataFrame'>\n",
            "RangeIndex: 3192 entries, 0 to 3191\n",
            "Data columns (total 9 columns):\n",
            " #   Column                                     Non-Null Count  Dtype  \n",
            "---  ------                                     --------------  -----  \n",
            " 0   dt                                         3192 non-null   object \n",
            " 1   LandAverageTemperature                     3180 non-null   float64\n",
            " 2   LandAverageTemperatureUncertainty          3180 non-null   float64\n",
            " 3   LandMaxTemperature                         1992 non-null   float64\n",
            " 4   LandMaxTemperatureUncertainty              1992 non-null   float64\n",
            " 5   LandMinTemperature                         1992 non-null   float64\n",
            " 6   LandMinTemperatureUncertainty              1992 non-null   float64\n",
            " 7   LandAndOceanAverageTemperature             1992 non-null   float64\n",
            " 8   LandAndOceanAverageTemperatureUncertainty  1992 non-null   float64\n",
            "dtypes: float64(8), object(1)\n",
            "memory usage: 224.6+ KB\n"
          ]
        }
      ]
    },
    {
      "cell_type": "markdown",
      "source": [
        "Cleaning the data set by filling up the null values"
      ],
      "metadata": {
        "id": "MVeaeMMZu10H"
      }
    },
    {
      "cell_type": "code",
      "source": [
        "globaltemp.isnull().sum()"
      ],
      "metadata": {
        "colab": {
          "base_uri": "https://localhost:8080/"
        },
        "id": "96601AcDpjYx",
        "outputId": "dde5cf66-8b46-4e2d-8774-e76081b7f69f"
      },
      "execution_count": null,
      "outputs": [
        {
          "output_type": "execute_result",
          "data": {
            "text/plain": [
              "dt                                              0\n",
              "LandAverageTemperature                         12\n",
              "LandAverageTemperatureUncertainty              12\n",
              "LandMaxTemperature                           1200\n",
              "LandMaxTemperatureUncertainty                1200\n",
              "LandMinTemperature                           1200\n",
              "LandMinTemperatureUncertainty                1200\n",
              "LandAndOceanAverageTemperature               1200\n",
              "LandAndOceanAverageTemperatureUncertainty    1200\n",
              "dtype: int64"
            ]
          },
          "metadata": {},
          "execution_count": 9
        }
      ]
    },
    {
      "cell_type": "code",
      "source": [
        "def wrangle(df):\n",
        "    df= df.copy()\n",
        "    df = df.drop(columns=['LandAverageTemperatureUncertainty','LandMaxTemperatureUncertainty','LandMinTemperatureUncertainty','LandAndOceanAverageTemperatureUncertainty'],axis=1)\n",
        "    def converttemp(x):\n",
        "        x = (x*1.8)+32\n",
        "        return float(x)\n",
        "    \n",
        "    df['LandAverageTemperature'] = df['LandAverageTemperature'].apply(converttemp)\n",
        "    df['LandMaxTemperature'] = df['LandMaxTemperature'].apply(converttemp)\n",
        "    df['LandMinTemperature'] = df['LandMinTemperature'].apply(converttemp)\n",
        "    df['LandAndOceanAverageTemperature'] = df['LandAndOceanAverageTemperature'].apply(converttemp)\n",
        "    df['dt'] = pd.to_datetime(df['dt'])\n",
        "    df['Month'] = df['dt'].dt.month\n",
        "    df['Year'] = df['dt'].dt.year\n",
        "    df = df.drop('dt',axis=1)\n",
        "    df = df.drop('Month',axis=1)\n",
        "    df = df[df.Year>=1850]\n",
        "    \n",
        "    df = df.set_index(['Year'])\n",
        "    \n",
        "    df = df.dropna()\n",
        "    return df"
      ],
      "metadata": {
        "id": "8ScK3JbTpmHd"
      },
      "execution_count": null,
      "outputs": []
    },
    {
      "cell_type": "code",
      "source": [
        "globaltemp = wrangle(globaltemp)"
      ],
      "metadata": {
        "id": "3Fwh-2KFpp0X"
      },
      "execution_count": null,
      "outputs": []
    },
    {
      "cell_type": "code",
      "source": [
        "globaltemp.head()"
      ],
      "metadata": {
        "colab": {
          "base_uri": "https://localhost:8080/",
          "height": 237
        },
        "id": "AFV4RFxhptk9",
        "outputId": "2f227e70-a764-47b9-cad1-2a7a6af1c4b7"
      },
      "execution_count": null,
      "outputs": [
        {
          "output_type": "execute_result",
          "data": {
            "text/plain": [
              "      LandAverageTemperature  LandMaxTemperature  LandMinTemperature  \\\n",
              "Year                                                                   \n",
              "1850                 33.3482             46.8356             26.2292   \n",
              "1850                 37.5278             49.9460             27.8762   \n",
              "1850                 40.9172             50.6246             28.5710   \n",
              "1850                 44.9906             55.2812             33.8324   \n",
              "1850                 50.0072             60.1790             38.8598   \n",
              "\n",
              "      LandAndOceanAverageTemperature  \n",
              "Year                                  \n",
              "1850                         55.0994  \n",
              "1850                         56.4584  \n",
              "1850                         57.2774  \n",
              "1850                         58.4006  \n",
              "1850                         59.9126  "
            ],
            "text/html": [
              "\n",
              "  <div id=\"df-2c11491f-4832-44d9-87c8-7b58e200a4bf\">\n",
              "    <div class=\"colab-df-container\">\n",
              "      <div>\n",
              "<style scoped>\n",
              "    .dataframe tbody tr th:only-of-type {\n",
              "        vertical-align: middle;\n",
              "    }\n",
              "\n",
              "    .dataframe tbody tr th {\n",
              "        vertical-align: top;\n",
              "    }\n",
              "\n",
              "    .dataframe thead th {\n",
              "        text-align: right;\n",
              "    }\n",
              "</style>\n",
              "<table border=\"1\" class=\"dataframe\">\n",
              "  <thead>\n",
              "    <tr style=\"text-align: right;\">\n",
              "      <th></th>\n",
              "      <th>LandAverageTemperature</th>\n",
              "      <th>LandMaxTemperature</th>\n",
              "      <th>LandMinTemperature</th>\n",
              "      <th>LandAndOceanAverageTemperature</th>\n",
              "    </tr>\n",
              "    <tr>\n",
              "      <th>Year</th>\n",
              "      <th></th>\n",
              "      <th></th>\n",
              "      <th></th>\n",
              "      <th></th>\n",
              "    </tr>\n",
              "  </thead>\n",
              "  <tbody>\n",
              "    <tr>\n",
              "      <th>1850</th>\n",
              "      <td>33.3482</td>\n",
              "      <td>46.8356</td>\n",
              "      <td>26.2292</td>\n",
              "      <td>55.0994</td>\n",
              "    </tr>\n",
              "    <tr>\n",
              "      <th>1850</th>\n",
              "      <td>37.5278</td>\n",
              "      <td>49.9460</td>\n",
              "      <td>27.8762</td>\n",
              "      <td>56.4584</td>\n",
              "    </tr>\n",
              "    <tr>\n",
              "      <th>1850</th>\n",
              "      <td>40.9172</td>\n",
              "      <td>50.6246</td>\n",
              "      <td>28.5710</td>\n",
              "      <td>57.2774</td>\n",
              "    </tr>\n",
              "    <tr>\n",
              "      <th>1850</th>\n",
              "      <td>44.9906</td>\n",
              "      <td>55.2812</td>\n",
              "      <td>33.8324</td>\n",
              "      <td>58.4006</td>\n",
              "    </tr>\n",
              "    <tr>\n",
              "      <th>1850</th>\n",
              "      <td>50.0072</td>\n",
              "      <td>60.1790</td>\n",
              "      <td>38.8598</td>\n",
              "      <td>59.9126</td>\n",
              "    </tr>\n",
              "  </tbody>\n",
              "</table>\n",
              "</div>\n",
              "      <button class=\"colab-df-convert\" onclick=\"convertToInteractive('df-2c11491f-4832-44d9-87c8-7b58e200a4bf')\"\n",
              "              title=\"Convert this dataframe to an interactive table.\"\n",
              "              style=\"display:none;\">\n",
              "        \n",
              "  <svg xmlns=\"http://www.w3.org/2000/svg\" height=\"24px\"viewBox=\"0 0 24 24\"\n",
              "       width=\"24px\">\n",
              "    <path d=\"M0 0h24v24H0V0z\" fill=\"none\"/>\n",
              "    <path d=\"M18.56 5.44l.94 2.06.94-2.06 2.06-.94-2.06-.94-.94-2.06-.94 2.06-2.06.94zm-11 1L8.5 8.5l.94-2.06 2.06-.94-2.06-.94L8.5 2.5l-.94 2.06-2.06.94zm10 10l.94 2.06.94-2.06 2.06-.94-2.06-.94-.94-2.06-.94 2.06-2.06.94z\"/><path d=\"M17.41 7.96l-1.37-1.37c-.4-.4-.92-.59-1.43-.59-.52 0-1.04.2-1.43.59L10.3 9.45l-7.72 7.72c-.78.78-.78 2.05 0 2.83L4 21.41c.39.39.9.59 1.41.59.51 0 1.02-.2 1.41-.59l7.78-7.78 2.81-2.81c.8-.78.8-2.07 0-2.86zM5.41 20L4 18.59l7.72-7.72 1.47 1.35L5.41 20z\"/>\n",
              "  </svg>\n",
              "      </button>\n",
              "      \n",
              "  <style>\n",
              "    .colab-df-container {\n",
              "      display:flex;\n",
              "      flex-wrap:wrap;\n",
              "      gap: 12px;\n",
              "    }\n",
              "\n",
              "    .colab-df-convert {\n",
              "      background-color: #E8F0FE;\n",
              "      border: none;\n",
              "      border-radius: 50%;\n",
              "      cursor: pointer;\n",
              "      display: none;\n",
              "      fill: #1967D2;\n",
              "      height: 32px;\n",
              "      padding: 0 0 0 0;\n",
              "      width: 32px;\n",
              "    }\n",
              "\n",
              "    .colab-df-convert:hover {\n",
              "      background-color: #E2EBFA;\n",
              "      box-shadow: 0px 1px 2px rgba(60, 64, 67, 0.3), 0px 1px 3px 1px rgba(60, 64, 67, 0.15);\n",
              "      fill: #174EA6;\n",
              "    }\n",
              "\n",
              "    [theme=dark] .colab-df-convert {\n",
              "      background-color: #3B4455;\n",
              "      fill: #D2E3FC;\n",
              "    }\n",
              "\n",
              "    [theme=dark] .colab-df-convert:hover {\n",
              "      background-color: #434B5C;\n",
              "      box-shadow: 0px 1px 3px 1px rgba(0, 0, 0, 0.15);\n",
              "      filter: drop-shadow(0px 1px 2px rgba(0, 0, 0, 0.3));\n",
              "      fill: #FFFFFF;\n",
              "    }\n",
              "  </style>\n",
              "\n",
              "      <script>\n",
              "        const buttonEl =\n",
              "          document.querySelector('#df-2c11491f-4832-44d9-87c8-7b58e200a4bf button.colab-df-convert');\n",
              "        buttonEl.style.display =\n",
              "          google.colab.kernel.accessAllowed ? 'block' : 'none';\n",
              "\n",
              "        async function convertToInteractive(key) {\n",
              "          const element = document.querySelector('#df-2c11491f-4832-44d9-87c8-7b58e200a4bf');\n",
              "          const dataTable =\n",
              "            await google.colab.kernel.invokeFunction('convertToInteractive',\n",
              "                                                     [key], {});\n",
              "          if (!dataTable) return;\n",
              "\n",
              "          const docLinkHtml = 'Like what you see? Visit the ' +\n",
              "            '<a target=\"_blank\" href=https://colab.research.google.com/notebooks/data_table.ipynb>data table notebook</a>'\n",
              "            + ' to learn more about interactive tables.';\n",
              "          element.innerHTML = '';\n",
              "          dataTable['output_type'] = 'display_data';\n",
              "          await google.colab.output.renderOutput(dataTable, element);\n",
              "          const docLink = document.createElement('div');\n",
              "          docLink.innerHTML = docLinkHtml;\n",
              "          element.appendChild(docLink);\n",
              "        }\n",
              "      </script>\n",
              "    </div>\n",
              "  </div>\n",
              "  "
            ]
          },
          "metadata": {},
          "execution_count": 12
        }
      ]
    },
    {
      "cell_type": "code",
      "source": [
        "globaltemp.shape"
      ],
      "metadata": {
        "colab": {
          "base_uri": "https://localhost:8080/"
        },
        "id": "6tCzgObGpxCq",
        "outputId": "0d321008-2f34-4249-b7d6-53c2ce93bbc4"
      },
      "execution_count": null,
      "outputs": [
        {
          "output_type": "execute_result",
          "data": {
            "text/plain": [
              "(1992, 4)"
            ]
          },
          "metadata": {},
          "execution_count": 13
        }
      ]
    },
    {
      "cell_type": "code",
      "source": [
        "globaltemp.isnull().sum()"
      ],
      "metadata": {
        "colab": {
          "base_uri": "https://localhost:8080/"
        },
        "id": "DQOywnycp0LJ",
        "outputId": "8804d51d-6eb1-475b-bc78-26bc9fdf99db"
      },
      "execution_count": null,
      "outputs": [
        {
          "output_type": "execute_result",
          "data": {
            "text/plain": [
              "LandAverageTemperature            0\n",
              "LandMaxTemperature                0\n",
              "LandMinTemperature                0\n",
              "LandAndOceanAverageTemperature    0\n",
              "dtype: int64"
            ]
          },
          "metadata": {},
          "execution_count": 14
        }
      ]
    },
    {
      "cell_type": "markdown",
      "source": [
        "Creating a correlation matrix to choose target and features"
      ],
      "metadata": {
        "id": "MIYf5t83vLoy"
      }
    },
    {
      "cell_type": "code",
      "source": [
        "corrmat = globaltemp.corr()\n",
        "sns.heatmap(corrmat,annot=True)\n",
        "plt.show()"
      ],
      "metadata": {
        "colab": {
          "base_uri": "https://localhost:8080/",
          "height": 439
        },
        "id": "XZiKCtYwp23W",
        "outputId": "43796f6b-4b61-4afd-932f-7f3c8c52890b"
      },
      "execution_count": null,
      "outputs": [
        {
          "output_type": "display_data",
          "data": {
            "text/plain": [
              "<Figure size 432x288 with 2 Axes>"
            ],
            "image/png": "[encoded data removed]"
          },
          "metadata": {
            "needs_background": "light"
          }
        }
      ]
    },
    {
      "cell_type": "code",
      "source": [
        "target = 'LandAndOceanAverageTemperature'\n",
        "Y = globaltemp[target]\n",
        "X = globaltemp[['LandAverageTemperature','LandMaxTemperature','LandMinTemperature']]"
      ],
      "metadata": {
        "id": "RJqVp_ZGqAL6"
      },
      "execution_count": null,
      "outputs": []
    },
    {
      "cell_type": "markdown",
      "source": [
        "Train-Test Split"
      ],
      "metadata": {
        "id": "aVZLU1D9vaA7"
      }
    },
    {
      "cell_type": "code",
      "source": [
        "from sklearn.model_selection import train_test_split\n",
        "X_train,X_val,Y_train,Y_val=train_test_split(X,Y,test_size=0.25,random_state=42)"
      ],
      "metadata": {
        "id": "18RqJJZeqC_V"
      },
      "execution_count": null,
      "outputs": []
    },
    {
      "cell_type": "code",
      "source": [
        "print(X_train.shape)\n",
        "print(X_val.shape)\n",
        "print(Y_train.shape)\n",
        "print(Y_val.shape)"
      ],
      "metadata": {
        "colab": {
          "base_uri": "https://localhost:8080/"
        },
        "id": "ksUepcAHqHRS",
        "outputId": "500f9791-293c-48a7-e833-12b5aee998d8"
      },
      "execution_count": null,
      "outputs": [
        {
          "output_type": "stream",
          "name": "stdout",
          "text": [
            "(1494, 3)\n",
            "(498, 3)\n",
            "(1494,)\n",
            "(498,)\n"
          ]
        }
      ]
    },
    {
      "cell_type": "markdown",
      "source": [
        "Making a Baseline Mean Absolute Error"
      ],
      "metadata": {
        "id": "PBRtOfO8veS5"
      }
    },
    {
      "cell_type": "code",
      "source": [
        "from sklearn.metrics import mean_absolute_error\n",
        "y_pred = [Y_train.mean()]*len(Y_train)\n",
        "print(\"Baseline MAE:\",round(mean_absolute_error(Y_train,y_pred),5))"
      ],
      "metadata": {
        "colab": {
          "base_uri": "https://localhost:8080/"
        },
        "id": "b8FLBgYsqIzg",
        "outputId": "7e922a6b-dcaa-4eae-a558-391670974f96"
      },
      "execution_count": null,
      "outputs": [
        {
          "output_type": "stream",
          "name": "stdout",
          "text": [
            "Baseline MAE: 2.03719\n"
          ]
        }
      ]
    },
    {
      "cell_type": "markdown",
      "source": [
        "Linear Regression Model"
      ],
      "metadata": {
        "id": "TCLQ4537vm6k"
      }
    },
    {
      "cell_type": "code",
      "source": [
        "from sklearn.linear_model import LinearRegression\n",
        "from sklearn.pipeline import make_pipeline\n",
        "from sklearn.preprocessing import StandardScaler\n",
        "lm = make_pipeline(StandardScaler(),LinearRegression())\n",
        "lm.fit(X_train,Y_train)"
      ],
      "metadata": {
        "colab": {
          "base_uri": "https://localhost:8080/"
        },
        "id": "djsuc7yPqLrg",
        "outputId": "37d1f616-248f-4fc9-dfdb-bfa60aa3916b"
      },
      "execution_count": null,
      "outputs": [
        {
          "output_type": "execute_result",
          "data": {
            "text/plain": [
              "Pipeline(steps=[('standardscaler', StandardScaler()),\n",
              "                ('linearregression', LinearRegression())])"
            ]
          },
          "metadata": {},
          "execution_count": 25
        }
      ]
    },
    {
      "cell_type": "markdown",
      "source": [
        "Random Forest Regressor Model"
      ],
      "metadata": {
        "id": "QiU-oJTfvpYz"
      }
    },
    {
      "cell_type": "code",
      "source": [
        "from sklearn.feature_selection import SelectKBest\n",
        "from sklearn.ensemble import RandomForestRegressor\n",
        "forestmodel = make_pipeline(\n",
        "SelectKBest(k=\"all\"),StandardScaler(),\n",
        "RandomForestRegressor(\n",
        "n_estimators=100,max_depth=50,random_state=77,n_jobs=-1))\n",
        "forestmodel.fit(X_train,Y_train)"
      ],
      "metadata": {
        "colab": {
          "base_uri": "https://localhost:8080/"
        },
        "id": "VJex5gokqOP9",
        "outputId": "2ce22183-6e4a-480b-faf2-7c25cbbdd2a6"
      },
      "execution_count": null,
      "outputs": [
        {
          "output_type": "execute_result",
          "data": {
            "text/plain": [
              "Pipeline(steps=[('selectkbest', SelectKBest(k='all')),\n",
              "                ('standardscaler', StandardScaler()),\n",
              "                ('randomforestregressor',\n",
              "                 RandomForestRegressor(max_depth=50, n_jobs=-1,\n",
              "                                       random_state=77))])"
            ]
          },
          "metadata": {},
          "execution_count": 26
        }
      ]
    },
    {
      "cell_type": "code",
      "source": [
        "print(\"Linear Regression Training MAE\",round(mean_absolute_error(Y_train,lm.predict(X_train)),5))\n",
        "print(\"Linear Regression Test MAE\",round(mean_absolute_error(Y_val,lm.predict(X_val)),5))"
      ],
      "metadata": {
        "colab": {
          "base_uri": "https://localhost:8080/"
        },
        "id": "UHKY7y34qRRE",
        "outputId": "bf79f44b-e73b-4689-d82f-a494cadff60f"
      },
      "execution_count": null,
      "outputs": [
        {
          "output_type": "stream",
          "name": "stdout",
          "text": [
            "Linear Regression Training MAE 0.2803\n",
            "Linear Regression Test MAE 0.28201\n"
          ]
        }
      ]
    },
    {
      "cell_type": "code",
      "source": [
        "print(\"Random forest Regressor model Training MAE:\",mean_absolute_error(Y_train,forestmodel.predict(X_train)))\n",
        "print(\"Random forest regressor model training MAE:\",mean_absolute_error(Y_val,forestmodel.predict(X_val)))"
      ],
      "metadata": {
        "colab": {
          "base_uri": "https://localhost:8080/"
        },
        "id": "sneVcnwwqUK_",
        "outputId": "a5b13d93-622f-425e-dddb-8ae722449268"
      },
      "execution_count": null,
      "outputs": [
        {
          "output_type": "stream",
          "name": "stdout",
          "text": [
            "Random forest Regressor model Training MAE: 0.09095256626506251\n",
            "Random forest regressor model training MAE: 0.2442967590361433\n"
          ]
        }
      ]
    },
    {
      "cell_type": "markdown",
      "source": [
        "Linear Regression Test/Train Accuracy"
      ],
      "metadata": {
        "id": "riC2BZVtvwGW"
      }
    },
    {
      "cell_type": "code",
      "source": [
        "y_pred = lm.predict(X_val)"
      ],
      "metadata": {
        "id": "5yCm6LnLqW0O"
      },
      "execution_count": null,
      "outputs": []
    },
    {
      "cell_type": "code",
      "source": [
        "errors = abs(y_pred-Y_val)\n",
        "#mean absolute precentage error (mape)\n",
        "mape = 100*(errors/Y_train)\n",
        "accuracy = 100-np.mean(mape)\n",
        "print(\"Linear regression model prediction Accuracy:\",round(accuracy,2),'%.')"
      ],
      "metadata": {
        "colab": {
          "base_uri": "https://localhost:8080/"
        },
        "id": "3zTpb3ShqZs7",
        "outputId": "5e8dde1f-8fea-48ba-d4b4-8de3b1d37150"
      },
      "execution_count": null,
      "outputs": [
        {
          "output_type": "stream",
          "name": "stdout",
          "text": [
            "Linear regression model prediction Accuracy: 99.52 %.\n"
          ]
        }
      ]
    },
    {
      "cell_type": "markdown",
      "source": [
        "Random Forest Regressor Train/Test Accuracy:"
      ],
      "metadata": {
        "id": "nq9VRyeAvy_r"
      }
    },
    {
      "cell_type": "code",
      "source": [
        "y_pred1 = forestmodel.predict(X_val)"
      ],
      "metadata": {
        "id": "NF8A7wJAqdxB"
      },
      "execution_count": null,
      "outputs": []
    },
    {
      "cell_type": "code",
      "source": [
        "errors1 = abs(y_pred1-Y_val)\n",
        "mape1 = 100*(errors1/Y_train)\n",
        "accuracy1 = 100-np.mean(mape1)\n",
        "print(\"Random Forest Regressor model prediction accuracy:\",round(accuracy1,2),'%.')"
      ],
      "metadata": {
        "colab": {
          "base_uri": "https://localhost:8080/"
        },
        "id": "HQ3YTIAiqehm",
        "outputId": "9274c35e-3b86-4d69-9d9a-32c63533b45f"
      },
      "execution_count": null,
      "outputs": [
        {
          "output_type": "stream",
          "name": "stdout",
          "text": [
            "Random Forest Regressor model prediction accuracy: 99.58 %.\n"
          ]
        }
      ]
    },
    {
      "cell_type": "code",
      "source": [
        "from sklearn.model_selection import RandomizedSearchCV\n",
        "params = {'selectkbest__k':range(5)}\n",
        "rs = RandomizedSearchCV(forestmodel,param_distributions=params,n_iter=5,n_jobs=-1,cv=10)\n",
        "rs.fit(X_train,Y_train);"
      ],
      "metadata": {
        "colab": {
          "base_uri": "https://localhost:8080/"
        },
        "id": "Eh41Mrwiqgx3",
        "outputId": "e35b3b03-e45f-4d5c-80f0-d8b864b8c335"
      },
      "execution_count": null,
      "outputs": [
        {
          "output_type": "stream",
          "name": "stderr",
          "text": [
            "/usr/local/lib/python3.8/dist-packages/sklearn/model_selection/_validation.py:372: FitFailedWarning: \n",
            "20 fits failed out of a total of 50.\n",
            "The score on these train-test partitions for these parameters will be set to nan.\n",
            "If these failures are not expected, you can try to debug them by setting error_score='raise'.\n",
            "\n",
            "Below are more details about the failures:\n",
            "--------------------------------------------------------------------------------\n",
            "4 fits failed with the following error:\n",
            "Traceback (most recent call last):\n",
            "  File \"/usr/local/lib/python3.8/dist-packages/sklearn/model_selection/_validation.py\", line 680, in _fit_and_score\n",
            "    estimator.fit(X_train, y_train, **fit_params)\n",
            "  File \"/usr/local/lib/python3.8/dist-packages/sklearn/pipeline.py\", line 390, in fit\n",
            "    Xt = self._fit(X, y, **fit_params_steps)\n",
            "  File \"/usr/local/lib/python3.8/dist-packages/sklearn/pipeline.py\", line 348, in _fit\n",
            "    X, fitted_transformer = fit_transform_one_cached(\n",
            "  File \"/usr/local/lib/python3.8/dist-packages/joblib/memory.py\", line 349, in __call__\n",
            "    return self.func(*args, **kwargs)\n",
            "  File \"/usr/local/lib/python3.8/dist-packages/sklearn/pipeline.py\", line 893, in _fit_transform_one\n",
            "    res = transformer.fit_transform(X, y, **fit_params)\n",
            "  File \"/usr/local/lib/python3.8/dist-packages/sklearn/base.py\", line 855, in fit_transform\n",
            "    return self.fit(X, y, **fit_params).transform(X)\n",
            "  File \"/usr/local/lib/python3.8/dist-packages/sklearn/preprocessing/_data.py\", line 806, in fit\n",
            "    return self.partial_fit(X, y, sample_weight)\n",
            "  File \"/usr/local/lib/python3.8/dist-packages/sklearn/preprocessing/_data.py\", line 841, in partial_fit\n",
            "    X = self._validate_data(\n",
            "  File \"/usr/local/lib/python3.8/dist-packages/sklearn/base.py\", line 566, in _validate_data\n",
            "    X = check_array(X, **check_params)\n",
            "  File \"/usr/local/lib/python3.8/dist-packages/sklearn/utils/validation.py\", line 814, in check_array\n",
            "    raise ValueError(\n",
            "ValueError: Found array with 0 feature(s) (shape=(1344, 0)) while a minimum of 1 is required by StandardScaler.\n",
            "\n",
            "--------------------------------------------------------------------------------\n",
            "6 fits failed with the following error:\n",
            "Traceback (most recent call last):\n",
            "  File \"/usr/local/lib/python3.8/dist-packages/sklearn/model_selection/_validation.py\", line 680, in _fit_and_score\n",
            "    estimator.fit(X_train, y_train, **fit_params)\n",
            "  File \"/usr/local/lib/python3.8/dist-packages/sklearn/pipeline.py\", line 390, in fit\n",
            "    Xt = self._fit(X, y, **fit_params_steps)\n",
            "  File \"/usr/local/lib/python3.8/dist-packages/sklearn/pipeline.py\", line 348, in _fit\n",
            "    X, fitted_transformer = fit_transform_one_cached(\n",
            "  File \"/usr/local/lib/python3.8/dist-packages/joblib/memory.py\", line 349, in __call__\n",
            "    return self.func(*args, **kwargs)\n",
            "  File \"/usr/local/lib/python3.8/dist-packages/sklearn/pipeline.py\", line 893, in _fit_transform_one\n",
            "    res = transformer.fit_transform(X, y, **fit_params)\n",
            "  File \"/usr/local/lib/python3.8/dist-packages/sklearn/base.py\", line 855, in fit_transform\n",
            "    return self.fit(X, y, **fit_params).transform(X)\n",
            "  File \"/usr/local/lib/python3.8/dist-packages/sklearn/preprocessing/_data.py\", line 806, in fit\n",
            "    return self.partial_fit(X, y, sample_weight)\n",
            "  File \"/usr/local/lib/python3.8/dist-packages/sklearn/preprocessing/_data.py\", line 841, in partial_fit\n",
            "    X = self._validate_data(\n",
            "  File \"/usr/local/lib/python3.8/dist-packages/sklearn/base.py\", line 566, in _validate_data\n",
            "    X = check_array(X, **check_params)\n",
            "  File \"/usr/local/lib/python3.8/dist-packages/sklearn/utils/validation.py\", line 814, in check_array\n",
            "    raise ValueError(\n",
            "ValueError: Found array with 0 feature(s) (shape=(1345, 0)) while a minimum of 1 is required by StandardScaler.\n",
            "\n",
            "--------------------------------------------------------------------------------\n",
            "10 fits failed with the following error:\n",
            "Traceback (most recent call last):\n",
            "  File \"/usr/local/lib/python3.8/dist-packages/sklearn/model_selection/_validation.py\", line 680, in _fit_and_score\n",
            "    estimator.fit(X_train, y_train, **fit_params)\n",
            "  File \"/usr/local/lib/python3.8/dist-packages/sklearn/pipeline.py\", line 390, in fit\n",
            "    Xt = self._fit(X, y, **fit_params_steps)\n",
            "  File \"/usr/local/lib/python3.8/dist-packages/sklearn/pipeline.py\", line 348, in _fit\n",
            "    X, fitted_transformer = fit_transform_one_cached(\n",
            "  File \"/usr/local/lib/python3.8/dist-packages/joblib/memory.py\", line 349, in __call__\n",
            "    return self.func(*args, **kwargs)\n",
            "  File \"/usr/local/lib/python3.8/dist-packages/sklearn/pipeline.py\", line 893, in _fit_transform_one\n",
            "    res = transformer.fit_transform(X, y, **fit_params)\n",
            "  File \"/usr/local/lib/python3.8/dist-packages/sklearn/base.py\", line 855, in fit_transform\n",
            "    return self.fit(X, y, **fit_params).transform(X)\n",
            "  File \"/usr/local/lib/python3.8/dist-packages/sklearn/feature_selection/_univariate_selection.py\", line 407, in fit\n",
            "    self._check_params(X, y)\n",
            "  File \"/usr/local/lib/python3.8/dist-packages/sklearn/feature_selection/_univariate_selection.py\", line 604, in _check_params\n",
            "    raise ValueError(\n",
            "ValueError: k should be >=0, <= n_features = 3; got 4. Use k='all' to return all features.\n",
            "\n",
            "  warnings.warn(some_fits_failed_message, FitFailedWarning)\n",
            "/usr/local/lib/python3.8/dist-packages/sklearn/model_selection/_search.py:969: UserWarning: One or more of the test scores are non-finite: [       nan 0.96917212 0.97674171 0.97934834        nan]\n",
            "  warnings.warn(\n"
          ]
        }
      ]
    },
    {
      "cell_type": "code",
      "source": [
        "best_model= rs.best_estimator_"
      ],
      "metadata": {
        "id": "EKgGlYyNqjZE"
      },
      "execution_count": null,
      "outputs": []
    },
    {
      "cell_type": "code",
      "source": [
        "print(\"Traning MAE:\",mean_absolute_error(Y_train,best_model.predict(X_train)))\n",
        "print(\"Validation MAE:\",mean_absolute_error(Y_val,best_model.predict(X_val)))"
      ],
      "metadata": {
        "colab": {
          "base_uri": "https://localhost:8080/"
        },
        "id": "kSxEgb21qtqA",
        "outputId": "13f0b449-c5ca-42db-e2a8-a2551b0adcd1"
      },
      "execution_count": null,
      "outputs": [
        {
          "output_type": "stream",
          "name": "stdout",
          "text": [
            "Traning MAE: 0.09095256626506253\n",
            "Validation MAE: 0.24429675903614326\n"
          ]
        }
      ]
    },
    {
      "cell_type": "code",
      "source": [
        "y_pred2 = best_model.predict(X_val)"
      ],
      "metadata": {
        "id": "1aScsjhWqvi8"
      },
      "execution_count": null,
      "outputs": []
    },
    {
      "cell_type": "code",
      "source": [
        "errors2 = abs(y_pred2-Y_val)\n",
        "mape2 = 100*(errors/Y_train)\n",
        "accuracy2 = 100-np.mean(mape)\n",
        "print(\"RandomizedSearchCV best model prediction accuracy\",round(accuracy2,2),'%.')"
      ],
      "metadata": {
        "colab": {
          "base_uri": "https://localhost:8080/"
        },
        "id": "GuDbXqMxqxq9",
        "outputId": "023aea33-bc46-4138-ef2a-6cfdcea43b6f"
      },
      "execution_count": null,
      "outputs": [
        {
          "output_type": "stream",
          "name": "stdout",
          "text": [
            "RandomizedSearchCV best model prediction accuracy 99.52 %.\n"
          ]
        }
      ]
    },
    {
      "cell_type": "code",
      "source": [
        " !pip install eli5 pdpbox category_encoders"
      ],
      "metadata": {
        "colab": {
          "base_uri": "https://localhost:8080/"
        },
        "id": "dnZYSKvGrTzU",
        "outputId": "323387e8-c4cf-468f-9a4b-a866cc9a4f04"
      },
      "execution_count": null,
      "outputs": [
        {
          "output_type": "stream",
          "name": "stdout",
          "text": [
            "Looking in indexes: https://pypi.org/simple, https://us-python.pkg.dev/colab-wheels/public/simple/\n",
            "Collecting eli5\n",
            "  Downloading eli5-0.13.0.tar.gz (216 kB)\n",
            "\u001b[2K     \u001b[90m━━━━━━━━━━━━━━━━━━━━━━━━━━━━━━━━━━━━━━━\u001b[0m \u001b[32m216.2/216.2 KB\u001b[0m \u001b[31m5.7 MB/s\u001b[0m eta \u001b[36m0:00:00\u001b[0m\n",
            "\u001b[?25h  Preparing metadata (setup.py) ... \u001b[?25l\u001b[?25hdone\n",
            "Collecting pdpbox\n",
            "  Downloading PDPbox-0.2.1.tar.gz (34.0 MB)\n",
            "\u001b[2K     \u001b[90m━━━━━━━━━━━━━━━━━━━━━━━━━━━━━━━━━━━━━━━━\u001b[0m \u001b[32m34.0/34.0 MB\u001b[0m \u001b[31m36.9 MB/s\u001b[0m eta \u001b[36m0:00:00\u001b[0m\n",
            "\u001b[?25h  Preparing metadata (setup.py) ... \u001b[?25l\u001b[?25hdone\n",
            "Collecting category_encoders\n",
            "  Downloading category_encoders-2.5.1.post0-py2.py3-none-any.whl (72 kB)\n",
            "\u001b[2K     \u001b[90m━━━━━━━━━━━━━━━━━━━━━━━━━━━━━━━━━━━━━━━━\u001b[0m \u001b[32m72.4/72.4 KB\u001b[0m \u001b[31m9.4 MB/s\u001b[0m eta \u001b[36m0:00:00\u001b[0m\n",
            "\u001b[?25hRequirement already satisfied: attrs>17.1.0 in /usr/local/lib/python3.8/dist-packages (from eli5) (22.2.0)\n",
            "Collecting jinja2>=3.0.0\n",
            "  Downloading Jinja2-3.1.2-py3-none-any.whl (133 kB)\n",
            "\u001b[2K     \u001b[90m━━━━━━━━━━━━━━━━━━━━━━━━━━━━━━━━━━━━━━\u001b[0m \u001b[32m133.1/133.1 KB\u001b[0m \u001b[31m13.4 MB/s\u001b[0m eta \u001b[36m0:00:00\u001b[0m\n",
            "\u001b[?25hRequirement already satisfied: numpy>=1.9.0 in /usr/local/lib/python3.8/dist-packages (from eli5) (1.21.6)\n",
            "Requirement already satisfied: scipy in /usr/local/lib/python3.8/dist-packages (from eli5) (1.7.3)\n",
            "Requirement already satisfied: six in /usr/local/lib/python3.8/dist-packages (from eli5) (1.15.0)\n",
            "Requirement already satisfied: scikit-learn>=0.20 in /usr/local/lib/python3.8/dist-packages (from eli5) (1.0.2)\n",
            "Requirement already satisfied: graphviz in /usr/local/lib/python3.8/dist-packages (from eli5) (0.10.1)\n",
            "Requirement already satisfied: tabulate>=0.7.7 in /usr/local/lib/python3.8/dist-packages (from eli5) (0.8.10)\n",
            "Requirement already satisfied: pandas in /usr/local/lib/python3.8/dist-packages (from pdpbox) (1.3.5)\n",
            "Requirement already satisfied: joblib in /usr/local/lib/python3.8/dist-packages (from pdpbox) (1.2.0)\n",
            "Requirement already satisfied: psutil in /usr/local/lib/python3.8/dist-packages (from pdpbox) (5.4.8)\n",
            "Collecting matplotlib==3.1.1\n",
            "  Downloading matplotlib-3.1.1.tar.gz (37.8 MB)\n",
            "\u001b[2K     \u001b[90m━━━━━━━━━━━━━━━━━━━━━━━━━━━━━━━━━━━━━━━━\u001b[0m \u001b[32m37.8/37.8 MB\u001b[0m \u001b[31m17.5 MB/s\u001b[0m eta \u001b[36m0:00:00\u001b[0m\n",
            "\u001b[?25h  Preparing metadata (setup.py) ... \u001b[?25l\u001b[?25hdone\n",
            "Collecting sklearn\n",
            "  Downloading sklearn-0.0.post1.tar.gz (3.6 kB)\n",
            "  Preparing metadata (setup.py) ... \u001b[?25l\u001b[?25hdone\n",
            "Requirement already satisfied: cycler>=0.10 in /usr/local/lib/python3.8/dist-packages (from matplotlib==3.1.1->pdpbox) (0.11.0)\n",
            "Requirement already satisfied: kiwisolver>=1.0.1 in /usr/local/lib/python3.8/dist-packages (from matplotlib==3.1.1->pdpbox) (1.4.4)\n",
            "Requirement already satisfied: pyparsing!=2.0.4,!=2.1.2,!=2.1.6,>=2.0.1 in /usr/local/lib/python3.8/dist-packages (from matplotlib==3.1.1->pdpbox) (3.0.9)\n",
            "Requirement already satisfied: python-dateutil>=2.1 in /usr/local/lib/python3.8/dist-packages (from matplotlib==3.1.1->pdpbox) (2.8.2)\n",
            "Requirement already satisfied: patsy>=0.5.1 in /usr/local/lib/python3.8/dist-packages (from category_encoders) (0.5.3)\n",
            "Requirement already satisfied: statsmodels>=0.9.0 in /usr/local/lib/python3.8/dist-packages (from category_encoders) (0.12.2)\n",
            "Requirement already satisfied: MarkupSafe>=2.0 in /usr/local/lib/python3.8/dist-packages (from jinja2>=3.0.0->eli5) (2.0.1)\n",
            "Requirement already satisfied: pytz>=2017.3 in /usr/local/lib/python3.8/dist-packages (from pandas->pdpbox) (2022.7)\n",
            "Requirement already satisfied: threadpoolctl>=2.0.0 in /usr/local/lib/python3.8/dist-packages (from scikit-learn>=0.20->eli5) (3.1.0)\n",
            "Building wheels for collected packages: eli5, pdpbox, matplotlib, sklearn\n",
            "  Building wheel for eli5 (setup.py) ... \u001b[?25l\u001b[?25hdone\n",
            "  Created wheel for eli5: filename=eli5-0.13.0-py2.py3-none-any.whl size=107748 sha256=25108a3e13a334a1448605dd28d7bc85e0ec2835fa01f7f0fce55d758f537b26\n",
            "  Stored in directory: /root/.cache/pip/wheels/85/ac/25/ffcd87ef8f9b1eec324fdf339359be71f22612459d8c75d89c\n",
            "  Building wheel for pdpbox (setup.py) ... \u001b[?25l\u001b[?25hdone\n",
            "  Created wheel for pdpbox: filename=PDPbox-0.2.1-py3-none-any.whl size=35758224 sha256=cd39ea97a066bf080f9867cbc28708bc58a7658a5467c7aa9f3a18d6856bad4e\n",
            "  Stored in directory: /root/.cache/pip/wheels/35/fb/ef/a08dd2a1611435285fa3f9d9104bf554f10c2eb7293b526ccb\n",
            "  Building wheel for matplotlib (setup.py) ... \u001b[?25l\u001b[?25hdone\n",
            "  Created wheel for matplotlib: filename=matplotlib-3.1.1-cp38-cp38-linux_x86_64.whl size=11152216 sha256=1511b064f93f1189b3bc2be6bf940e533d97e89e8295a879001a4ad27d4d181e\n",
            "  Stored in directory: /root/.cache/pip/wheels/85/86/f1/054e7477b5e68f3c4a1258d12ae1c2205d6889283ce631dfe5\n",
            "  Building wheel for sklearn (setup.py) ... \u001b[?25l\u001b[?25hdone\n",
            "  Created wheel for sklearn: filename=sklearn-0.0.post1-py3-none-any.whl size=2344 sha256=b21df251d4dfa730eadfecf0a71aa685133ac581e8cf1707965bafc6fddc8673\n",
            "  Stored in directory: /root/.cache/pip/wheels/14/25/f7/1cc0956978ae479e75140219088deb7a36f60459df242b1a72\n",
            "Successfully built eli5 pdpbox matplotlib sklearn\n",
            "Installing collected packages: sklearn, jinja2, matplotlib, pdpbox, eli5, category_encoders\n",
            "  Attempting uninstall: jinja2\n",
            "    Found existing installation: Jinja2 2.11.3\n",
            "    Uninstalling Jinja2-2.11.3:\n",
            "      Successfully uninstalled Jinja2-2.11.3\n",
            "  Attempting uninstall: matplotlib\n",
            "    Found existing installation: matplotlib 3.2.2\n",
            "    Uninstalling matplotlib-3.2.2:\n",
            "      Successfully uninstalled matplotlib-3.2.2\n",
            "\u001b[31mERROR: pip's dependency resolver does not currently take into account all the packages that are installed. This behaviour is the source of the following dependency conflicts.\n",
            "notebook 5.7.16 requires jinja2<=3.0.0, but you have jinja2 3.1.2 which is incompatible.\n",
            "flask 1.1.4 requires Jinja2<3.0,>=2.10.1, but you have jinja2 3.1.2 which is incompatible.\u001b[0m\u001b[31m\n",
            "\u001b[0mSuccessfully installed category_encoders-2.5.1.post0 eli5-0.13.0 jinja2-3.1.2 matplotlib-3.1.1 pdpbox-0.2.1 sklearn-0.0.post1\n"
          ]
        }
      ]
    },
    {
      "cell_type": "markdown",
      "source": [
        "# Partial Dependence **Plots**"
      ],
      "metadata": {
        "id": "xtWcaQUpv7iq"
      }
    },
    {
      "cell_type": "code",
      "source": [
        "from pdpbox.pdp import pdp_isolate,pdp_plot\n",
        "feature='LandAverageTemperature'\n",
        "isolated = pdp_isolate(model=forestmodel,\n",
        "                       dataset=X_val,\n",
        "                       model_features=X_val.columns,\n",
        "                       feature=feature)\n",
        "pdp_plot(isolated,feature_name = feature)"
      ],
      "metadata": {
        "colab": {
          "base_uri": "https://localhost:8080/",
          "height": 699
        },
        "id": "ioZmjtAXqzhd",
        "outputId": "b269885a-1f07-45fd-83c7-d186502c22ba"
      },
      "execution_count": null,
      "outputs": [
        {
          "output_type": "execute_result",
          "data": {
            "text/plain": [
              "(<Figure size 1080x684 with 2 Axes>,\n",
              " {'title_ax': <matplotlib.axes._subplots.AxesSubplot at 0x7f54859a9eb0>,\n",
              "  'pdp_ax': <matplotlib.axes._subplots.AxesSubplot at 0x7f548003d880>})"
            ]
          },
          "metadata": {},
          "execution_count": 49
        },
        {
          "output_type": "stream",
          "name": "stderr",
          "text": [
            "WARNING:matplotlib.font_manager:findfont: Font family ['Arial'] not found. Falling back to DejaVu Sans.\n",
            "WARNING:matplotlib.font_manager:findfont: Font family ['Arial'] not found. Falling back to DejaVu Sans.\n",
            "WARNING:matplotlib.font_manager:findfont: Font family ['Arial'] not found. Falling back to DejaVu Sans.\n",
            "WARNING:matplotlib.font_manager:findfont: Font family ['Arial'] not found. Falling back to DejaVu Sans.\n"
          ]
        },
        {
          "output_type": "display_data",
          "data": {
            "text/plain": [
              "<Figure size 1080x684 with 2 Axes>"
            ],
            "image/png": "[encoded data removed]"
          },
          "metadata": {
            "needs_background": "light"
          }
        }
      ]
    },
    {
      "cell_type": "markdown",
      "source": [
        "From the above plot, the average LandAndOceanTemperature rises and LandAverageTemperature increases, the predicted temperature tends to increase."
      ],
      "metadata": {
        "id": "nh2tTPL7wBGA"
      }
    },
    {
      "cell_type": "code",
      "source": [
        "feature='LandMinTemperature'\n",
        "isolated = pdp_isolate(model=forestmodel,\n",
        "                       dataset=X_val,\n",
        "                       model_features=X_val.columns,\n",
        "                       feature=feature)\n",
        "pdp_plot(isolated,feature_name = feature)"
      ],
      "metadata": {
        "colab": {
          "base_uri": "https://localhost:8080/",
          "height": 630
        },
        "id": "90sCgBfhq2MJ",
        "outputId": "08e6bcdf-6b8f-4561-dccc-4fe3ba79d6bc"
      },
      "execution_count": null,
      "outputs": [
        {
          "output_type": "execute_result",
          "data": {
            "text/plain": [
              "(<Figure size 1080x684 with 2 Axes>,\n",
              " {'title_ax': <matplotlib.axes._subplots.AxesSubplot at 0x7f54800aecd0>,\n",
              "  'pdp_ax': <matplotlib.axes._subplots.AxesSubplot at 0x7f5482f5a160>})"
            ]
          },
          "metadata": {},
          "execution_count": 51
        },
        {
          "output_type": "display_data",
          "data": {
            "text/plain": [
              "<Figure size 1080x684 with 2 Axes>"
            ],
            "image/png": "[encoded data removed]"
          },
          "metadata": {
            "needs_background": "light"
          }
        }
      ]
    },
    {
      "cell_type": "markdown",
      "source": [
        "From this plot, we can see the same results as well."
      ],
      "metadata": {
        "id": "aCMknk3lwJ58"
      }
    }
  ]
}